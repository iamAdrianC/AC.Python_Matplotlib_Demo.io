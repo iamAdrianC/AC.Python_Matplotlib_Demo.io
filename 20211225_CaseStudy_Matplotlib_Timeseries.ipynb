{
 "cells": [
  {
   "cell_type": "markdown",
   "id": "536ca511",
   "metadata": {},
   "source": [
    "## Import libraries"
   ]
  },
  {
   "cell_type": "code",
   "execution_count": 1,
   "id": "2b50aaa4",
   "metadata": {},
   "outputs": [],
   "source": [
    "import pandas as pd\n",
    "from datetime import datetime, timedelta\n",
    "from matplotlib import pyplot as plt\n",
    "from matplotlib import dates as mpl_dates"
   ]
  },
  {
   "cell_type": "markdown",
   "id": "68b0faa0",
   "metadata": {},
   "source": [
    "## Use this plot style"
   ]
  },
  {
   "cell_type": "code",
   "execution_count": 2,
   "id": "83cc6373",
   "metadata": {},
   "outputs": [],
   "source": [
    "plt.style.use('seaborn')"
   ]
  },
  {
   "cell_type": "markdown",
   "id": "87f7c6f0",
   "metadata": {},
   "source": [
    "## Import csv file"
   ]
  },
  {
   "cell_type": "code",
   "execution_count": 3,
   "id": "fb459f7c",
   "metadata": {},
   "outputs": [],
   "source": [
    "data = pd.read_csv('F://Files/Python work/case study/data4.csv')"
   ]
  },
  {
   "cell_type": "code",
   "execution_count": 4,
   "id": "c0eda7bf",
   "metadata": {},
   "outputs": [
    {
     "data": {
      "text/html": [
       "<div>\n",
       "<style scoped>\n",
       "    .dataframe tbody tr th:only-of-type {\n",
       "        vertical-align: middle;\n",
       "    }\n",
       "\n",
       "    .dataframe tbody tr th {\n",
       "        vertical-align: top;\n",
       "    }\n",
       "\n",
       "    .dataframe thead th {\n",
       "        text-align: right;\n",
       "    }\n",
       "</style>\n",
       "<table border=\"1\" class=\"dataframe\">\n",
       "  <thead>\n",
       "    <tr style=\"text-align: right;\">\n",
       "      <th></th>\n",
       "      <th>Date</th>\n",
       "      <th>Open</th>\n",
       "      <th>High</th>\n",
       "      <th>Low</th>\n",
       "      <th>Close</th>\n",
       "      <th>Adj Close</th>\n",
       "      <th>Volume</th>\n",
       "    </tr>\n",
       "  </thead>\n",
       "  <tbody>\n",
       "    <tr>\n",
       "      <th>0</th>\n",
       "      <td>2019-05-18</td>\n",
       "      <td>7266.080078</td>\n",
       "      <td>8281.660156</td>\n",
       "      <td>7257.259766</td>\n",
       "      <td>8193.139648</td>\n",
       "      <td>8193.139648</td>\n",
       "      <td>723011166</td>\n",
       "    </tr>\n",
       "    <tr>\n",
       "      <th>1</th>\n",
       "      <td>2019-05-19</td>\n",
       "      <td>8193.139648</td>\n",
       "      <td>8193.139648</td>\n",
       "      <td>7591.850098</td>\n",
       "      <td>7998.290039</td>\n",
       "      <td>7998.290039</td>\n",
       "      <td>637617163</td>\n",
       "    </tr>\n",
       "    <tr>\n",
       "      <th>2</th>\n",
       "      <td>2019-05-20</td>\n",
       "      <td>7998.290039</td>\n",
       "      <td>8102.319824</td>\n",
       "      <td>7807.770020</td>\n",
       "      <td>7947.930176</td>\n",
       "      <td>7947.930176</td>\n",
       "      <td>357803946</td>\n",
       "    </tr>\n",
       "    <tr>\n",
       "      <th>3</th>\n",
       "      <td>2019-05-21</td>\n",
       "      <td>7947.930176</td>\n",
       "      <td>8033.759766</td>\n",
       "      <td>7533.660156</td>\n",
       "      <td>7626.890137</td>\n",
       "      <td>7626.890137</td>\n",
       "      <td>424501866</td>\n",
       "    </tr>\n",
       "    <tr>\n",
       "      <th>4</th>\n",
       "      <td>2019-05-22</td>\n",
       "      <td>7626.890137</td>\n",
       "      <td>7971.259766</td>\n",
       "      <td>7478.740234</td>\n",
       "      <td>7876.500000</td>\n",
       "      <td>7876.500000</td>\n",
       "      <td>386766321</td>\n",
       "    </tr>\n",
       "    <tr>\n",
       "      <th>5</th>\n",
       "      <td>2019-05-23</td>\n",
       "      <td>7876.500000</td>\n",
       "      <td>8165.450195</td>\n",
       "      <td>7801.569824</td>\n",
       "      <td>7996.399902</td>\n",
       "      <td>7996.399902</td>\n",
       "      <td>413162746</td>\n",
       "    </tr>\n",
       "    <tr>\n",
       "      <th>6</th>\n",
       "      <td>2019-05-24</td>\n",
       "      <td>7996.399902</td>\n",
       "      <td>8140.819824</td>\n",
       "      <td>7948.680176</td>\n",
       "      <td>8059.129883</td>\n",
       "      <td>8059.129883</td>\n",
       "      <td>179206342</td>\n",
       "    </tr>\n",
       "    <tr>\n",
       "      <th>7</th>\n",
       "      <td>2019-05-25</td>\n",
       "      <td>8059.129883</td>\n",
       "      <td>8779.000000</td>\n",
       "      <td>7894.529785</td>\n",
       "      <td>8726.230469</td>\n",
       "      <td>8726.230469</td>\n",
       "      <td>483663699</td>\n",
       "    </tr>\n",
       "    <tr>\n",
       "      <th>8</th>\n",
       "      <td>2019-05-26</td>\n",
       "      <td>8726.230469</td>\n",
       "      <td>8931.530273</td>\n",
       "      <td>8668.459961</td>\n",
       "      <td>8785.169922</td>\n",
       "      <td>8785.169922</td>\n",
       "      <td>507164714</td>\n",
       "    </tr>\n",
       "    <tr>\n",
       "      <th>9</th>\n",
       "      <td>2019-05-27</td>\n",
       "      <td>8785.169922</td>\n",
       "      <td>8818.709961</td>\n",
       "      <td>8562.200195</td>\n",
       "      <td>8718.849609</td>\n",
       "      <td>8718.849609</td>\n",
       "      <td>360752199</td>\n",
       "    </tr>\n",
       "    <tr>\n",
       "      <th>10</th>\n",
       "      <td>2019-05-28</td>\n",
       "      <td>8718.849609</td>\n",
       "      <td>8760.480469</td>\n",
       "      <td>8444.099609</td>\n",
       "      <td>8664.559570</td>\n",
       "      <td>8664.559570</td>\n",
       "      <td>380343928</td>\n",
       "    </tr>\n",
       "    <tr>\n",
       "      <th>11</th>\n",
       "      <td>2019-05-29</td>\n",
       "      <td>8664.559570</td>\n",
       "      <td>9065.889648</td>\n",
       "      <td>8027.209961</td>\n",
       "      <td>8276.250000</td>\n",
       "      <td>8276.250000</td>\n",
       "      <td>815525590</td>\n",
       "    </tr>\n",
       "    <tr>\n",
       "      <th>12</th>\n",
       "      <td>2019-05-30</td>\n",
       "      <td>8276.250000</td>\n",
       "      <td>8570.780273</td>\n",
       "      <td>8116.000000</td>\n",
       "      <td>8560.080078</td>\n",
       "      <td>8560.080078</td>\n",
       "      <td>500141087</td>\n",
       "    </tr>\n",
       "    <tr>\n",
       "      <th>13</th>\n",
       "      <td>2019-05-31</td>\n",
       "      <td>8550.629883</td>\n",
       "      <td>8576.339844</td>\n",
       "      <td>8459.650391</td>\n",
       "      <td>8504.980469</td>\n",
       "      <td>8504.980469</td>\n",
       "      <td>69915456</td>\n",
       "    </tr>\n",
       "  </tbody>\n",
       "</table>\n",
       "</div>"
      ],
      "text/plain": [
       "          Date         Open         High          Low        Close  \\\n",
       "0   2019-05-18  7266.080078  8281.660156  7257.259766  8193.139648   \n",
       "1   2019-05-19  8193.139648  8193.139648  7591.850098  7998.290039   \n",
       "2   2019-05-20  7998.290039  8102.319824  7807.770020  7947.930176   \n",
       "3   2019-05-21  7947.930176  8033.759766  7533.660156  7626.890137   \n",
       "4   2019-05-22  7626.890137  7971.259766  7478.740234  7876.500000   \n",
       "5   2019-05-23  7876.500000  8165.450195  7801.569824  7996.399902   \n",
       "6   2019-05-24  7996.399902  8140.819824  7948.680176  8059.129883   \n",
       "7   2019-05-25  8059.129883  8779.000000  7894.529785  8726.230469   \n",
       "8   2019-05-26  8726.230469  8931.530273  8668.459961  8785.169922   \n",
       "9   2019-05-27  8785.169922  8818.709961  8562.200195  8718.849609   \n",
       "10  2019-05-28  8718.849609  8760.480469  8444.099609  8664.559570   \n",
       "11  2019-05-29  8664.559570  9065.889648  8027.209961  8276.250000   \n",
       "12  2019-05-30  8276.250000  8570.780273  8116.000000  8560.080078   \n",
       "13  2019-05-31  8550.629883  8576.339844  8459.650391  8504.980469   \n",
       "\n",
       "      Adj Close     Volume  \n",
       "0   8193.139648  723011166  \n",
       "1   7998.290039  637617163  \n",
       "2   7947.930176  357803946  \n",
       "3   7626.890137  424501866  \n",
       "4   7876.500000  386766321  \n",
       "5   7996.399902  413162746  \n",
       "6   8059.129883  179206342  \n",
       "7   8726.230469  483663699  \n",
       "8   8785.169922  507164714  \n",
       "9   8718.849609  360752199  \n",
       "10  8664.559570  380343928  \n",
       "11  8276.250000  815525590  \n",
       "12  8560.080078  500141087  \n",
       "13  8504.980469   69915456  "
      ]
     },
     "execution_count": 4,
     "metadata": {},
     "output_type": "execute_result"
    }
   ],
   "source": [
    "data # early look"
   ]
  },
  {
   "cell_type": "code",
   "execution_count": null,
   "id": "08151660",
   "metadata": {},
   "outputs": [],
   "source": []
  },
  {
   "cell_type": "code",
   "execution_count": 6,
   "id": "c51f47ea",
   "metadata": {},
   "outputs": [],
   "source": [
    "data['Date'] = pd.to_datetime(data['Date'])\n",
    "data.sort_values('Date', inplace=True)"
   ]
  },
  {
   "cell_type": "code",
   "execution_count": 10,
   "id": "98ac6c5c",
   "metadata": {},
   "outputs": [
    {
     "data": {
      "text/plain": [
       "0    2019-05-18\n",
       "1    2019-05-19\n",
       "2    2019-05-20\n",
       "3    2019-05-21\n",
       "4    2019-05-22\n",
       "5    2019-05-23\n",
       "6    2019-05-24\n",
       "7    2019-05-25\n",
       "8    2019-05-26\n",
       "9    2019-05-27\n",
       "10   2019-05-28\n",
       "11   2019-05-29\n",
       "12   2019-05-30\n",
       "13   2019-05-31\n",
       "Name: Date, dtype: datetime64[ns]"
      ]
     },
     "execution_count": 10,
     "metadata": {},
     "output_type": "execute_result"
    }
   ],
   "source": [
    "data['Date']"
   ]
  },
  {
   "cell_type": "markdown",
   "id": "b33b7389",
   "metadata": {},
   "source": [
    "## Change certain columns"
   ]
  },
  {
   "cell_type": "code",
   "execution_count": 8,
   "id": "f8d209ed",
   "metadata": {},
   "outputs": [],
   "source": [
    "price_date = data['Date']\n",
    "price_close = data['Close']"
   ]
  },
  {
   "cell_type": "code",
   "execution_count": 11,
   "id": "c900d659",
   "metadata": {},
   "outputs": [
    {
     "data": {
      "text/plain": [
       "0    2019-05-18\n",
       "1    2019-05-19\n",
       "2    2019-05-20\n",
       "3    2019-05-21\n",
       "4    2019-05-22\n",
       "5    2019-05-23\n",
       "6    2019-05-24\n",
       "7    2019-05-25\n",
       "8    2019-05-26\n",
       "9    2019-05-27\n",
       "10   2019-05-28\n",
       "11   2019-05-29\n",
       "12   2019-05-30\n",
       "13   2019-05-31\n",
       "Name: Date, dtype: datetime64[ns]"
      ]
     },
     "execution_count": 11,
     "metadata": {},
     "output_type": "execute_result"
    }
   ],
   "source": [
    "price_date"
   ]
  },
  {
   "cell_type": "code",
   "execution_count": 12,
   "id": "c66c85d0",
   "metadata": {},
   "outputs": [
    {
     "data": {
      "text/plain": [
       "0     8193.139648\n",
       "1     7998.290039\n",
       "2     7947.930176\n",
       "3     7626.890137\n",
       "4     7876.500000\n",
       "5     7996.399902\n",
       "6     8059.129883\n",
       "7     8726.230469\n",
       "8     8785.169922\n",
       "9     8718.849609\n",
       "10    8664.559570\n",
       "11    8276.250000\n",
       "12    8560.080078\n",
       "13    8504.980469\n",
       "Name: Close, dtype: float64"
      ]
     },
     "execution_count": 12,
     "metadata": {},
     "output_type": "execute_result"
    }
   ],
   "source": [
    "price_close"
   ]
  },
  {
   "cell_type": "markdown",
   "id": "a8068cb1",
   "metadata": {},
   "source": [
    "## Here is a plot"
   ]
  },
  {
   "cell_type": "code",
   "execution_count": 13,
   "id": "d22cbb28",
   "metadata": {},
   "outputs": [
    {
     "data": {
      "image/png": "[encoded data removed]",
      "text/plain": [
       "<Figure size 576x396 with 1 Axes>"
      ]
     },
     "metadata": {},
     "output_type": "display_data"
    }
   ],
   "source": [
    "plt.plot_date(price_date, price_close, linestyle='solid')\n",
    "\n",
    "plt.gcf().autofmt_xdate() # gcf - Get Current Figure\n",
    "\n",
    "plt.title('Bitcoin Prices')\n",
    "plt.xlabel('Date')\n",
    "plt.ylabel('Closing Price')\n",
    "\n",
    "plt.tight_layout()\n",
    "\n",
    "plt.show()"
   ]
  },
  {
   "cell_type": "markdown",
   "id": "46f0ef0b",
   "metadata": {},
   "source": [
    "## This is another example of plotting datetime data"
   ]
  },
  {
   "cell_type": "code",
   "execution_count": 14,
   "id": "70635cb6",
   "metadata": {},
   "outputs": [],
   "source": [
    "dates = [\n",
    "    datetime(2019, 5, 24),\n",
    "    datetime(2019, 5, 25),\n",
    "    datetime(2019, 5, 26),\n",
    "    datetime(2019, 5, 27),\n",
    "    datetime(2019, 5, 28),\n",
    "    datetime(2019, 5, 29),\n",
    "    datetime(2019, 5, 30)\n",
    "]"
   ]
  },
  {
   "cell_type": "code",
   "execution_count": 15,
   "id": "d28cf385",
   "metadata": {},
   "outputs": [],
   "source": [
    "y = [0, 1, 3, 4, 6, 5, 7]"
   ]
  },
  {
   "cell_type": "markdown",
   "id": "eba03f66",
   "metadata": {},
   "source": [
    "## Plot of data"
   ]
  },
  {
   "cell_type": "code",
   "execution_count": 21,
   "id": "7e3c6fc5",
   "metadata": {},
   "outputs": [
    {
     "data": {
      "image/png": "[encoded data removed]",
      "text/plain": [
       "<Figure size 576x396 with 1 Axes>"
      ]
     },
     "metadata": {},
     "output_type": "display_data"
    }
   ],
   "source": [
    "plt.plot_date(dates, y, linestyle='solid')\n",
    "\n",
    "plt.tight_layout()\n",
    "\n",
    "plt.show()"
   ]
  },
  {
   "cell_type": "code",
   "execution_count": null,
   "id": "462cbde1",
   "metadata": {},
   "outputs": [],
   "source": []
  }
 ],
 "metadata": {
  "kernelspec": {
   "display_name": "Python 3 (ipykernel)",
   "language": "python",
   "name": "python3"
  },
  "language_info": {
   "codemirror_mode": {
    "name": "ipython",
    "version": 3
   },
   "file_extension": ".py",
   "mimetype": "text/x-python",
   "name": "python",
   "nbconvert_exporter": "python",
   "pygments_lexer": "ipython3",
   "version": "3.9.7"
  }
 },
 "nbformat": 4,
 "nbformat_minor": 5
}
